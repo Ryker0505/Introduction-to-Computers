{
  "nbformat": 4,
  "nbformat_minor": 0,
  "metadata": {
    "colab": {
      "name": "0509.ipynb",
      "provenance": [],
      "collapsed_sections": [],
      "authorship_tag": "ABX9TyOMvmyfpeG6HBQin/DA9MZF",
      "include_colab_link": true
    },
    "kernelspec": {
      "name": "python3",
      "display_name": "Python 3"
    },
    "language_info": {
      "name": "python"
    }
  },
  "cells": [
    {
      "cell_type": "markdown",
      "metadata": {
        "id": "view-in-github",
        "colab_type": "text"
      },
      "source": [
        "<a href=\"https://colab.research.google.com/github/Ryker0505/Introduction-to-Computers/blob/main/0509.ipynb\" target=\"_parent\"><img src=\"https://colab.research.google.com/assets/colab-badge.svg\" alt=\"Open In Colab\"/></a>"
      ]
    },
    {
      "cell_type": "code",
      "execution_count": null,
      "metadata": {
        "colab": {
          "base_uri": "https://localhost:8080/"
        },
        "id": "j42HvmxhklI3",
        "outputId": "af09f2b6-2fe2-4371-8aa2-ce51be41e6e2"
      },
      "outputs": [
        {
          "output_type": "stream",
          "name": "stdout",
          "text": [
            "1\n"
          ]
        }
      ],
      "source": [
        "print (1)"
      ]
    },
    {
      "cell_type": "code",
      "source": [
        "temp = float(input('請輸入你的體溫'))\n",
        "if temp >= 37.5:\n",
        "  print('體溫過高!')\n",
        "elif temp >=37 and temp < 37.4:\n",
        "  print('體溫略高!')\n",
        "elif temp >=34 and temp < 36.9:\n",
        "  print('體溫正常!')\n",
        "else:\n",
        "  print('體問異常,請重新量測!')"
      ],
      "metadata": {
        "colab": {
          "base_uri": "https://localhost:8080/"
        },
        "id": "dxye-z0YqUKx",
        "outputId": "d347da1a-55d3-4216-943d-c7823c24addc"
      },
      "execution_count": null,
      "outputs": [
        {
          "output_type": "stream",
          "name": "stdout",
          "text": [
            "請輸入你的體溫33.9\n",
            "體問異常,請重新量測!\n"
          ]
        }
      ]
    },
    {
      "cell_type": "code",
      "source": [
        "score = int(input('請輸入成績'))\n",
        "if score >= 90:\n",
        "  print('A')\n",
        "elif score <= 89 and score >= 80:\n",
        "  print('B')\n",
        "elif score <=79 and score >= 70:\n",
        "  print('C')\n",
        "elif score <= 69 and score >= 60:\n",
        "  print('D')\n",
        "else:\n",
        "  print('E')"
      ],
      "metadata": {
        "colab": {
          "base_uri": "https://localhost:8080/"
        },
        "id": "_Wn_Uv2ks7JQ",
        "outputId": "0b64eb1e-8f4b-461c-a9ff-1689e704a21b"
      },
      "execution_count": null,
      "outputs": [
        {
          "output_type": "stream",
          "name": "stdout",
          "text": [
            "請輸入成績50\n",
            "E\n"
          ]
        }
      ]
    },
    {
      "cell_type": "code",
      "source": [
        "score = int(input('請輸入成績'))\n",
        "if (int(score) >= 90):\n",
        "  print('A')\n",
        "elif (int(score) >= 80):\n",
        "  print('B')\n",
        "elif (int(score) >= 70):\n",
        "  print('C')\n",
        "elif (int(score) >= 60):\n",
        "  print('D')\n",
        "else:\n",
        "  print('E')"
      ],
      "metadata": {
        "colab": {
          "base_uri": "https://localhost:8080/"
        },
        "id": "2gIx-8N9rSSu",
        "outputId": "2bf70572-8477-46e1-caa5-30ecd7aff144"
      },
      "execution_count": null,
      "outputs": [
        {
          "output_type": "stream",
          "name": "stdout",
          "text": [
            "請輸入成績50\n",
            "E\n"
          ]
        }
      ]
    },
    {
      "cell_type": "code",
      "source": [
        "money = int(input('請輸入購物金額:'))\n",
        "if (money >= 10000):\n",
        "  if(money >= 100000):\n",
        "    print('八折',money * 0.8, end = \"元\\n\")\n",
        "else:\n",
        "  print('沒打折', money, end= '元\\n')"
      ],
      "metadata": {
        "colab": {
          "base_uri": "https://localhost:8080/"
        },
        "id": "sc1i_vF-wQWY",
        "outputId": "d365590b-64ef-4742-86f2-b547bfdf2f97"
      },
      "execution_count": 16,
      "outputs": [
        {
          "output_type": "stream",
          "name": "stdout",
          "text": [
            "請輸入購物金額:100\n",
            "沒打折 100元\n"
          ]
        }
      ]
    },
    {
      "cell_type": "code",
      "source": [
        "money = int(input('請輸入購物金額:'))\n",
        "if (money >= 10000) :\n",
        "  if (money >= 100000) :\n",
        "   print(\"八折\", money * 0.8, end = \"元\\n\")\n",
        "  elif (money >= 50000) :\n",
        "   print(\"八五折\", money * 0.85, end = \"元\\n\")\n",
        "  elif (money >= 30000) :\n",
        "   print(\"九折\", money * 0.9, end = \"元\\n\")\n",
        "  else:\n",
        "   print (\"九五折\", money * 0.95,end = \"元\\n\")\n",
        "else:\n",
        " print(\"沒打折\",money, end= \"元\\n\")"
      ],
      "metadata": {
        "colab": {
          "base_uri": "https://localhost:8080/"
        },
        "id": "tghJlTuH0QUo",
        "outputId": "bf3ae295-ffa6-4b54-c9d1-efb86fcb2ed1"
      },
      "execution_count": null,
      "outputs": [
        {
          "output_type": "stream",
          "name": "stdout",
          "text": [
            "請輸入購物金額:50000\n",
            "八五折 42500.0元\n"
          ]
        }
      ]
    },
    {
      "cell_type": "code",
      "source": [
        "month = int(input('請輸入月份:'))\n",
        "if (month in [3,4,5]):\n",
        "  print(str(month), \"是春天!\")\n",
        "elif (month in [6,7,8]):\n",
        "  print(str(month), \"是夏天!\")\n",
        "elif (month in [9,10,11]):\n",
        "  print(str(month), \"是秋天!\")\n",
        "elif (month in [12,1,2]):\n",
        "  print(str(month), \"是冬天!\")\n",
        "else:\n",
        "  print('月份不在範圍內!')\n",
        "\n",
        " "
      ],
      "metadata": {
        "colab": {
          "base_uri": "https://localhost:8080/"
        },
        "id": "xZQG3OzqxhBD",
        "outputId": "e1bd9466-f18a-46d9-de70-8bf7808e36d8"
      },
      "execution_count": null,
      "outputs": [
        {
          "output_type": "stream",
          "name": "stdout",
          "text": [
            "請輸入月份:3\n",
            "3 是春天!\n"
          ]
        }
      ]
    },
    {
      "cell_type": "code",
      "source": [
        "tax = int(input('請輸入今年收入淨額:'))\n",
        "if (tax >= 300000):\n",
        " if (tax >= 2000000):\n",
        "  print ('付稅金額:', tax * 0.3)\n",
        " elif (tax >= 1000000):\n",
        "  print ('付稅金額:', tax * 0.21)\n",
        " elif (tax >= 600000):\n",
        "  print ('付稅金額:', tax * 0.13)\n",
        " else:\n",
        "  print ('付稅金額:', tax * 0.06)\n",
        "else:\n",
        "  print ('付稅金額:', tax * 0)"
      ],
      "metadata": {
        "id": "bCNXCzkbzC14",
        "colab": {
          "base_uri": "https://localhost:8080/"
        },
        "outputId": "bf067d11-b6ae-4cd5-f014-a0c86463895a"
      },
      "execution_count": 24,
      "outputs": [
        {
          "output_type": "stream",
          "name": "stdout",
          "text": [
            "請輸入今年收入淨額:2000000\n",
            "付稅金額: 600000.0\n"
          ]
        }
      ]
    },
    {
      "cell_type": "code",
      "source": [
        ""
      ],
      "metadata": {
        "id": "zl8YDREpQzGI"
      },
      "execution_count": 20,
      "outputs": []
    }
  ]
}